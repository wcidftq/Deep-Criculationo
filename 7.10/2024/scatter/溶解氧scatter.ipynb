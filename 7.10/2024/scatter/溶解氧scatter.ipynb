{
 "cells": [
  {
   "cell_type": "code",
   "execution_count": 1,
   "metadata": {},
   "outputs": [],
   "source": [
    "import numpy as np    \n",
    "import pandas as pd    \n",
    "import matplotlib.pyplot as plt  \n",
    "import os  \n",
    "import cartopy.crs as ccrs  \n",
    "import cartopy.feature as cfeature  \n",
    "import matplotlib.ticker as mticker  \n",
    "from matplotlib.ticker import MultipleLocator, FuncFormatter"
   ]
  },
  {
   "cell_type": "code",
   "execution_count": 2,
   "metadata": {},
   "outputs": [
    {
     "name": "stdout",
     "output_type": "stream",
     "text": [
      "['E130-13', 'E130-03', 'E140-03orQB01', 'E130-05', 'N21-11', 'E130-07', 'E130-12', 'E163-04', 'E130-04', 'N21-10', 'E130-06', 'QB08', 'N21-14', 'E163-06', 'E130-08', 'N03-04', 'QB06', 'E130-14', 'QB07', 'E163-07', 'E130-09', 'E163-03', 'E130-10', 'E140-11', 'QB04', 'N03-02', 'N03-03', 'FB01', 'E163-06s', 'E130-11', 'E130-02', 'E163-02', 'E163-04s', 'N21-13', 'E163-01', 'QB03', 'N21-12', 'E140-07', 'E163-05', 'E140-08']\n"
     ]
    }
   ],
   "source": [
    "df_0 = pd.read_excel(r'D:\\ze_1112\\最新数据\\NORC2022-09_Chl-a+营养盐_20240422更新_绘图使用数据.xls')\n",
    "# df.dropna(inplace=True)\n",
    "df_0 = df_0.rename(columns={'站位':'站位名'})\n",
    "stations = []\n",
    "for i in df_0['站位名']:\n",
    "    stations.append(i)\n",
    "stations = list(set(stations))\n",
    "print(stations)"
   ]
  },
  {
   "cell_type": "code",
   "execution_count": 3,
   "metadata": {},
   "outputs": [],
   "source": [
    "def dms_to_decimal(dms):\n",
    "    \"\"\"将度分秒转换为十进制度数\"\"\"\n",
    "    dms = dms.replace('°', ' ').replace('′', ' ').replace('″', ' ').replace('\"E', ' ').replace('\"N', ' ').replace('\"S', ' ')\n",
    "    parts = dms.split()\n",
    "    degrees = float(parts[0])\n",
    "    minutes = float(parts[1]) if len(parts) > 1 else 0\n",
    "    seconds = float(parts[2]) if len(parts) > 2 else 0\n",
    "    decimal = degrees + (minutes / 60) + (seconds / 3600)\n",
    "    return decimal"
   ]
  },
  {
   "cell_type": "code",
   "execution_count": 29,
   "metadata": {},
   "outputs": [],
   "source": [
    "# 自定义刻度格式化函数\n",
    "def lon_formatter(x, pos):\n",
    "    if x < 0:\n",
    "        return f'{abs(int(x))}°W'\n",
    "    elif x > 180:\n",
    "        return f'{360-int(x)}°W'\n",
    "    else:\n",
    "        return f'{int(x)}°E'\n",
    "\n",
    "def lat_formatter(x, pos):\n",
    "    if x > 0:\n",
    "        return f'{int(x)}°N' \n",
    "    else:\n",
    "        return f'{int(x)}°S'"
   ]
  },
  {
   "cell_type": "code",
   "execution_count": 42,
   "metadata": {},
   "outputs": [
    {
     "name": "stdout",
     "output_type": "stream",
     "text": [
      "[118.43417969]\n",
      "[120.801875]\n",
      "[117.23862847]\n",
      "[118.54596354]\n",
      "[115.11840278]\n",
      "[117.33258929]\n",
      "[118.13728299]\n",
      "[135.09710938]\n",
      "[121.578125]\n",
      "[115.79184028]\n",
      "[118.76296107]\n",
      "[114.45789931]\n",
      "[116.46659007]\n",
      "[131.74037162]\n",
      "[118.07713068]\n",
      "[117.87612847]\n",
      "[122.16323785]\n",
      "[117.45243056]\n",
      "[121.4874496]\n",
      "[127.93764881]\n",
      "[118.33506944]\n",
      "[123.69971591]\n",
      "[118.03914931]\n",
      "[116.82383578]\n",
      "[112.71163194]\n",
      "[110.15591518]\n",
      "[115.75401042]\n",
      "[120.20598958]\n",
      "[88.04427083]\n",
      "[116.08059896]\n",
      "[120.98059896]\n",
      "[124.61210937]\n",
      "[85.79049479]\n",
      "[116.78029514]\n",
      "[100.62378472]\n",
      "[99.87000868]\n",
      "[113.60614754]\n",
      "[117.24947917]\n",
      "[137.17899306]\n",
      "[87.71588542]\n"
     ]
    }
   ],
   "source": [
    "stations_ctd = os.listdir(r'D:\\ze_1112\\最新数据\\CTD补上溶解氧_04共享航次计划调查资料汇交表')\n",
    "\n",
    "plt.rcParams['font.sans-serif'] = ['SimHei']  # 用来正常显示中文标签\n",
    "plt.rcParams['axes.unicode_minus'] = False  # 用来正常显示负号\n",
    "plt.rcParams['font.size'] = 24\n",
    "\n",
    "    \n",
    "fig = plt.figure(figsize=(10, 8))\n",
    "ax1 = fig.add_subplot(111, projection=ccrs.PlateCarree())    \n",
    "ax1.set_extent([125, 165.001, -1, 25.001], crs=ccrs.PlateCarree())\n",
    "\n",
    "for i in stations:\n",
    "    df = pd.read_excel(os.path.join(rf'D:\\ze_1112\\最新数据\\CTD补上溶解氧_04共享航次计划调查资料汇交表\\CTD-{i}.xls'), skiprows=3, usecols=[1,5,6,8,11,13,16], names=['站位名', '纬度', '经度', '深度', '水温', '盐度', '溶解氧'])\n",
    "    df = df.drop(0)\n",
    "    max_depth = df['深度'].max()\n",
    "    df = df[df['深度'] == max_depth]\n",
    "    longitude = df['经度'].apply(dms_to_decimal).values # type: ignore\n",
    "    latitude = df['纬度'].apply(dms_to_decimal).values  # type: ignore\n",
    "    name = df['站位名'].values\n",
    "    o2 = df['溶解氧'].values\n",
    "    print(o2)\n",
    "    depth = df['深度'].values\n",
    "    \n",
    "    sc = ax1.scatter(longitude, latitude, s=80, c=o2, cmap='Reds', marker='o', alpha=1, edgecolors='k' , transform=ccrs.PlateCarree(), zorder=10, vmin=110, vmax=130)\n",
    "\n",
    "ax1.spines[:].set_linewidth(2)\n",
    "ax1.add_feature(cfeature.BORDERS, linewidth=2)\n",
    "ax1.add_feature(cfeature.COASTLINE, linewidth=2)\n",
    "ax1.add_feature(cfeature.RIVERS, linewidth=2)\n",
    "ax1.add_feature(cfeature.LAND, edgecolor='black', zorder=9)\n",
    "\n",
    "import xarray as xr\n",
    "ds = xr.open_dataset(r\"E:\\all_draw\\data\\Copernicus_bathy\\cmems_mod_glo_phy_my_0.083deg_static_1720691864705.nc\")\n",
    "elevation = ds['deptho'].values\n",
    "longitude = ds['longitude'].values\n",
    "latitude = ds['latitude'].values\n",
    "mask = elevation > 4000\n",
    "mask_1 = elevation >2000\n",
    "mask_2 = elevation > 3000\n",
    "zhe_gai = ax1.contourf(longitude, latitude, mask, levels=[0, 0.5], colors='grey', transform=ccrs.PlateCarree(), alpha=0.2)\n",
    "zhe_gai_1 = ax1.contourf(longitude, latitude, mask_1, levels=[0, 0.5], colors='orange', transform=ccrs.PlateCarree(), alpha=0.7)\n",
    "zhe_gai_2 = ax1.contourf(longitude, latitude, mask_2, levels=[0, 0.5], colors='grey', transform=ccrs.PlateCarree(), alpha=0.7)\n",
    "\n",
    "ax1.set_xlabel('Longitude')\n",
    "ax1.set_ylabel('Latitude')\n",
    "gl = ax1.gridlines(draw_labels=False, linewidth=1, color='white', alpha=0.15, linestyle='--')\n",
    "gl.top_labels = False\n",
    "gl.right_labels = False\n",
    "gl.xlabel_style = {'size': 15, 'color': 'black'}\n",
    "gl.ylabel_style = {'size': 15, 'color': 'black'}\n",
    "ax1.set_xticks(np.arange(125, 165.001, 10))\n",
    "ax1.set_yticks(np.arange(5, 25.001, 5))\n",
    "ax1.xaxis.set_major_formatter(FuncFormatter(lon_formatter))\n",
    "ax1.yaxis.set_major_formatter(FuncFormatter(lat_formatter))\n",
    "    \n",
    "cbar = plt.colorbar(sc, ax=ax1, orientation='vertical', pad=0.02, aspect=30, shrink=0.65)\n",
    "cbar.set_label('o2  (μmol/L)', fontsize=18)\n",
    "\n",
    "# plt.show()    \n",
    "plt.savefig('2024cruice_o2_scatter_maxdepth.png', bbox_inches='tight', dpi=300)\n",
    "plt.close()"
   ]
  },
  {
   "cell_type": "code",
   "execution_count": null,
   "metadata": {},
   "outputs": [],
   "source": []
  }
 ],
 "metadata": {
  "kernelspec": {
   "display_name": "base",
   "language": "python",
   "name": "python3"
  },
  "language_info": {
   "codemirror_mode": {
    "name": "ipython",
    "version": 3
   },
   "file_extension": ".py",
   "mimetype": "text/x-python",
   "name": "python",
   "nbconvert_exporter": "python",
   "pygments_lexer": "ipython3",
   "version": "3.11.4"
  }
 },
 "nbformat": 4,
 "nbformat_minor": 2
}
