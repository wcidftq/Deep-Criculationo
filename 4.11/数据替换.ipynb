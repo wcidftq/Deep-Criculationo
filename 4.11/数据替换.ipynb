{
 "cells": [
  {
   "cell_type": "code",
   "execution_count": 39,
   "metadata": {},
   "outputs": [],
   "source": [
    "import pandas as pd\n",
    "\n",
    "# 读取 Excel 文件\n",
    "df = pd.read_excel(r\"C:\\Users\\12716\\Desktop\\CTD\\根据地理位置对站点分区\\FMJ\\CTD-QB16.xlsx\")\n",
    "\n",
    "\n",
    "df.iloc[:, 5] = 10.8167\n",
    "\n",
    "# 将修改后的 DataFrame 写回到 Excel 文件中\n",
    "df.to_excel(r\"C:\\Users\\12716\\Desktop\\CTD\\根据地理位置对站点分区\\FMJ\\CTD-QB16.xlsx\", index=False)\n"
   ]
  },
  {
   "cell_type": "code",
   "execution_count": null,
   "metadata": {},
   "outputs": [],
   "source": []
  }
 ],
 "metadata": {
  "kernelspec": {
   "display_name": "Python 3",
   "language": "python",
   "name": "python3"
  },
  "language_info": {
   "codemirror_mode": {
    "name": "ipython",
    "version": 3
   },
   "file_extension": ".py",
   "mimetype": "text/x-python",
   "name": "python",
   "nbconvert_exporter": "python",
   "pygments_lexer": "ipython3",
   "version": "3.11.9"
  }
 },
 "nbformat": 4,
 "nbformat_minor": 2
}
