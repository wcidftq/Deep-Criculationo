{
 "cells": [
  {
   "cell_type": "code",
   "execution_count": 2,
   "metadata": {},
   "outputs": [],
   "source": [
    "import os\n",
    "import pandas as pd\n"
   ]
  },
  {
   "cell_type": "code",
   "execution_count": 3,
   "metadata": {},
   "outputs": [
    {
     "name": "stdout",
     "output_type": "stream",
     "text": [
      "所有文件已转换完成！\n"
     ]
    }
   ],
   "source": [
    "def convert_xls_to_xlsx(folder_path):\n",
    "    # 列出文件夹中所有的 .xls 文件\n",
    "    xls_files = [f for f in os.listdir(folder_path) if f.endswith('.xls')]\n",
    "\n",
    "    # 遍历文件列表\n",
    "    for file_name in xls_files:\n",
    "        file_path = os.path.join(folder_path, file_name)\n",
    "        # 读取旧的 .xls 文件\n",
    "        df = pd.read_excel(file_path)\n",
    "        \n",
    "        # 定义新文件名，将扩展名从 .xls 改为 .xlsx\n",
    "        new_file_name = file_name.replace('.xls', '.xlsx')\n",
    "        new_file_path = os.path.join(folder_path, new_file_name)\n",
    "        \n",
    "        # 保存为 .xlsx 文件\n",
    "        df.to_excel(new_file_path, index=False, engine='openpyxl')\n",
    "\n",
    "    print(\"所有文件已转换完成！\")\n",
    "\n",
    "# 设置包含 .xls 文件的文件夹路径\n",
    "folder_path = r'C:\\Users\\12716\\Desktop\\CTD\\根据地理位置对站点分区\\FMJ'\n",
    "convert_xls_to_xlsx(folder_path)"
   ]
  },
  {
   "cell_type": "code",
   "execution_count": null,
   "metadata": {},
   "outputs": [],
   "source": []
  }
 ],
 "metadata": {
  "kernelspec": {
   "display_name": "Python 3",
   "language": "python",
   "name": "python3"
  },
  "language_info": {
   "codemirror_mode": {
    "name": "ipython",
    "version": 3
   },
   "file_extension": ".py",
   "mimetype": "text/x-python",
   "name": "python",
   "nbconvert_exporter": "python",
   "pygments_lexer": "ipython3",
   "version": "3.11.9"
  }
 },
 "nbformat": 4,
 "nbformat_minor": 2
}
