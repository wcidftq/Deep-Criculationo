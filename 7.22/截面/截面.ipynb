{
 "cells": [
  {
   "cell_type": "code",
   "execution_count": 2,
   "metadata": {},
   "outputs": [],
   "source": [
    "import matplotlib.pyplot as plt\n",
    "import numpy as np\n",
    "import pandas as pd     \n",
    "import gsw\n",
    "import os"
   ]
  },
  {
   "cell_type": "code",
   "execution_count": 4,
   "metadata": {},
   "outputs": [
    {
     "name": "stdout",
     "output_type": "stream",
     "text": [
      "['CTD-N21-14.xls', 'CTD-N21-10.xls', 'CTD-N21-11.xls', 'CTD-N21-12.xls', 'CTD-N21-13.xls']\n"
     ]
    }
   ],
   "source": [
    "path = r'G:\\最新数据\\截面\\N21'\n",
    "wen_jian_jia = os.listdir(path)\n",
    "print(wen_jian_jia)"
   ]
  },
  {
   "cell_type": "code",
   "execution_count": 5,
   "metadata": {},
   "outputs": [],
   "source": [
    "def dms_to_decimal(dms):\n",
    "    \"\"\"将度分秒转换为十进制度数\"\"\"\n",
    "    dms = dms.replace('°', ' ').replace('′', ' ').replace('″', ' ').replace('\"E', ' ').replace('\"N', ' ').replace('\"S', ' ')\n",
    "    parts = dms.split()\n",
    "    degrees = float(parts[0])\n",
    "    minutes = float(parts[1]) if len(parts) > 1 else 0\n",
    "    seconds = float(parts[2]) if len(parts) > 2 else 0\n",
    "    decimal = degrees + (minutes / 60) + (seconds / 3600)\n",
    "    return decimal"
   ]
  },
  {
   "cell_type": "code",
   "execution_count": 8,
   "metadata": {},
   "outputs": [],
   "source": [
    "plt.rcParams['font.size'] = 18\n",
    "all_colors = ['#8B8970', '#FFA54F', '#3CB371', '#8B2500', '#B0C4DE', '#8B4513', '#0FFFF0', '#6B8E23', '#F08080', '#008080', '#BC8F8F', '#FFC0CB', '#9932CC', '#F0E68C', '#B22222']\n",
    "all_markers = ['o','o','o','D','D','D','X','X','X','*','*','*','^','^','^']\n",
    "\n",
    "fig = plt.figure(figsize=(10,10))\n",
    "ax1 = fig.add_subplot(111)\n",
    "\n",
    "for idx, path_name in enumerate(wen_jian_jia):\n",
    "    colors = all_colors[:len(wen_jian_jia)]\n",
    "    df = pd.read_excel(rf'G:\\最新数据\\截面\\N21\\{path_name}', skiprows=3, usecols=[1,5,6,8,10,11,13,16], names=['站位名', '纬度', '经度', '深度', '压力', '水温', '盐度', '溶解氧'])\n",
    "    df = df[df['深度'] >= 2000]\n",
    "    o2 = df['溶解氧'].values.astype(float)\n",
    "    salinity = df['盐度'].values.astype(float)\n",
    "    t = df['水温'].values.astype(float)\n",
    "    p = df['压力'].values.astype(float) * 0.1 -10.1325\n",
    "    lon = df['经度'].apply(dms_to_decimal).values.astype(float)\n",
    "    lat = df['纬度'].apply(dms_to_decimal).values.astype(float)\n",
    "    \n",
    "    AT = gsw.SA_from_SP(salinity, p, lon, lat)\n",
    "    PT = gsw.pt0_from_t(AT, t, p)\n",
    "    CT = gsw.CT_from_pt(AT, PT)\n",
    "    sigma = gsw.sigma0(AT, CT)\n",
    "    \n",
    "    ax1.scatter(salinity, PT, s=20, marker=all_markers[idx], c=colors[idx], alpha=0.5, label=path_name[4:10])\n",
    "\n",
    "plt.legend(markerscale=2, fontsize=15)\n",
    "# plt.show()\n",
    "plt.savefig('N21', bbox_inches='tight', dpi=300)\n",
    "plt.close()    "
   ]
  },
  {
   "cell_type": "code",
   "execution_count": null,
   "metadata": {},
   "outputs": [],
   "source": []
  }
 ],
 "metadata": {
  "kernelspec": {
   "display_name": "base",
   "language": "python",
   "name": "python3"
  },
  "language_info": {
   "codemirror_mode": {
    "name": "ipython",
    "version": 3
   },
   "file_extension": ".py",
   "mimetype": "text/x-python",
   "name": "python",
   "nbconvert_exporter": "python",
   "pygments_lexer": "ipython3",
   "version": "3.12.4"
  }
 },
 "nbformat": 4,
 "nbformat_minor": 2
}
